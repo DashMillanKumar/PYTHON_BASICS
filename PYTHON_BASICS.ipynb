{
  "nbformat": 4,
  "nbformat_minor": 0,
  "metadata": {
    "colab": {
      "provenance": []
    },
    "kernelspec": {
      "name": "python3",
      "display_name": "Python 3"
    },
    "language_info": {
      "name": "python"
    }
  },
  "cells": [
    {
      "cell_type": "markdown",
      "source": [
        "# **THEORY QUESTIONS:**"
      ],
      "metadata": {
        "id": "6Opac3yL4nzL"
      }
    },
    {
      "cell_type": "markdown",
      "source": [
        "1. What is Python, and why is it popular ?\n",
        "\n",
        "Answer:- Python is an easy-to-learn programming language used for many tasks like web development, data analysis, and automation. It is popular because it's simple, flexible, and has a large supportive community with lots of helpful tools.\n",
        "\n",
        "\n",
        "2. What is an interpreter in Python ?\n",
        "\n",
        "Answer:- An interpreter in Python is a tool that reads and runs your Python code directly, one line at a time. It translates your code into actions that the computer can understand and perform right away. This makes it easier to see results quickly.\n",
        "\n",
        "3.  What are pre-defined keywords in Python ?\n",
        "\n",
        "Answer:- Pre-defined keywords in Python are special words that have a specific meaning and are reserved by the language. These words cannot be used as names for variables, functions, or other identifiers. Examples include words like if, else, while, for, and def. They are used to define the structure and behavior of Python code.\n",
        "\n",
        "4.  Can keywords be used as variable names ?\n",
        "\n",
        "Answer:- No, keywords cannot be used as variable names in Python. They are reserved words with special meanings, like if, else, and for, and using them as variable names would cause an error.\n",
        "\n",
        "5.  What is mutability in Python ?\n",
        "\n",
        "Answer:- Mutability in Python refers to whether an object can be changed after it is created.\n",
        "\n",
        "6. Why are lists mutable, but tuples are immutable ?\n",
        "\n",
        "Answer:- Lists are mutable because you can change, add, or remove items in them after they are created. Tuples are immutable because once they are created, their items cannot be changed or modified. This difference helps keep tuples safe from accidental changes, while lists allow more flexibility for modification\n",
        "\n",
        "7. What is the difference between “==” and “is” operators in Python ?\n",
        "\n",
        "Answer:- In Python:\n",
        "\n",
        "== checks if the values of two things are the same.\n",
        "is checks if two things are actually the same object in memory.\n",
        "So, == compares values, while is compares the objects themselves.\n",
        "\n",
        "8. What are logical operators in Python ?\n",
        "\n",
        "Answer:-\n",
        "\n",
        "Logical operators in Python (and, or, not) are used to combine or reverse conditions in expressions.\n",
        "\n",
        "9. What is type casting in Python ?\n",
        "\n",
        "Answer:- Type casting in Python is the process of converting one data type into another, like turning an integer into a string or a float into an integer. You can do this using functions like int(), str(), or float().\n",
        "\n",
        "10. What is the difference between implicit and explicit type casting ?\n",
        "\n",
        "Answer:- The difference between implicit and explicit type casting in Python is:\n",
        "\n",
        "Implicit type casting: Python automatically converts one data type to another (e.g., from integer to float) without you asking for it.\n",
        "Explicit type casting: You manually convert one data type to another using functions like int(), str(), or float().\n",
        "\n",
        "11.  What is the purpose of conditional statements in Python ?\n",
        "\n",
        "Answer:-\n",
        "\n",
        "The purpose of conditional statements in Python is to make decisions in your code. They allow the program to run different actions based on whether a condition is true or false. The main conditional statements are if, elif, and else.\n",
        "\n",
        "12.  How does the elif statement work ?\n",
        "\n",
        "Answer:- The elif statement in Python stands for \"else if.\" It is used after an if statement to check another condition if the first condition is false. If the if condition is false, Python checks the elif condition. If it's true, the code under elif runs. If none of the conditions are true, the else statement (if present) will run.\n",
        "\n",
        "13. What is the difference between for and while loops ?\n",
        "\n",
        "Answer:- a for loop is used when you know how many times you want to repeat, while a while loop is used when you want to repeat as long as a condition is true.\n",
        "\n",
        "14. Describe a scenario where a while loop is more suitable than a for loop.\n",
        "\n",
        "Answer:-\n",
        "A while loop is more suitable when you don't know how many times you need to repeat the action, but you want it to continue as long as a condition is true.\n",
        "\n",
        "Example: Checking a user’s input until they enter a valid number.\n",
        "\n",
        "user_input = \"\"\n",
        "while not user_input.isdigit():\n",
        "    user_input = input(\"Please enter a valid number: \")\n",
        "print(f\"Valid number entered: {user_input}\")\n"
      ],
      "metadata": {
        "id": "Rpqf182J455n"
      }
    },
    {
      "cell_type": "markdown",
      "source": [
        "# **PRATICAL QUESTIONS:**"
      ],
      "metadata": {
        "id": "Ql-3DtHE78T3"
      }
    },
    {
      "cell_type": "code",
      "source": [
        "#Q1. Write a Python program to print \"Hello, World!\n",
        "\n",
        "print(\"Hello, World!\")"
      ],
      "metadata": {
        "colab": {
          "base_uri": "https://localhost:8080/"
        },
        "id": "ZLN21wk88DjP",
        "outputId": "98676a99-7f66-4314-8722-bb941a253500"
      },
      "execution_count": 1,
      "outputs": [
        {
          "output_type": "stream",
          "name": "stdout",
          "text": [
            "Hello, World!\n"
          ]
        }
      ]
    },
    {
      "cell_type": "code",
      "source": [
        "#Q2. Write a Python program that displays your name and age.\n",
        "\n",
        "name = \"Millan Kumar\"\n",
        "age = 23\n",
        "\n",
        "print(\"Name:\", name)\n",
        "print(\"Age:\", age)"
      ],
      "metadata": {
        "colab": {
          "base_uri": "https://localhost:8080/"
        },
        "id": "kC7DCJDU8Ty9",
        "outputId": "e3477e83-316d-4044-b5bb-2a7797c0f757"
      },
      "execution_count": 4,
      "outputs": [
        {
          "output_type": "stream",
          "name": "stdout",
          "text": [
            "Name: Millan Kumar\n",
            "Age: 23\n"
          ]
        }
      ]
    },
    {
      "cell_type": "code",
      "source": [
        "#Q3. Write code to print all the pre-defined keywords in Python using the keyword library.\n",
        "\n",
        "import keyword\n",
        "\n",
        "# Print all the pre-defined keywords in Python\n",
        "print(keyword.kwlist)"
      ],
      "metadata": {
        "colab": {
          "base_uri": "https://localhost:8080/"
        },
        "id": "2jK9I6Gb8z1S",
        "outputId": "e6cdeca6-3008-4d57-fea8-d687324f55b9"
      },
      "execution_count": 5,
      "outputs": [
        {
          "output_type": "stream",
          "name": "stdout",
          "text": [
            "['False', 'None', 'True', 'and', 'as', 'assert', 'async', 'await', 'break', 'class', 'continue', 'def', 'del', 'elif', 'else', 'except', 'finally', 'for', 'from', 'global', 'if', 'import', 'in', 'is', 'lambda', 'nonlocal', 'not', 'or', 'pass', 'raise', 'return', 'try', 'while', 'with', 'yield']\n"
          ]
        }
      ]
    },
    {
      "cell_type": "code",
      "source": [
        "#Q4. Write a program that checks if a given word is a Python keyword.\n",
        "\n",
        "import keyword\n",
        "\n",
        "# Get input from the user\n",
        "word = input(\"if: \")\n",
        "\n",
        "# Check if the word is a Python keyword\n",
        "if keyword.iskeyword(word):\n",
        "    print(f\"'{word}' is a Python keyword.\")\n",
        "else:\n",
        "    print(f\"'{word}' is not a Python keyword.\")"
      ],
      "metadata": {
        "colab": {
          "base_uri": "https://localhost:8080/"
        },
        "id": "sjL4E9Qg88vg",
        "outputId": "9ca92604-1218-4f9c-9d0e-e680e25acc84"
      },
      "execution_count": 6,
      "outputs": [
        {
          "output_type": "stream",
          "name": "stdout",
          "text": [
            "if: if\n",
            "'if' is a Python keyword.\n"
          ]
        }
      ]
    },
    {
      "cell_type": "code",
      "source": [
        "#Q5. Create a list and tuple in Python, and demonstrate how attempting to change an element works differently for each.\n",
        "\n",
        "# Create a list and a tuple\n",
        "my_list = [1, 2, 3, 4]\n",
        "my_tuple = (1, 2, 3, 4)\n",
        "\n",
        "# Attempt to change an element in the list\n",
        "my_list[2] = 99\n",
        "print(\"Updated list:\", my_list)\n",
        "\n",
        "# Attempt to change an element in the tuple (this will raise an error)\n",
        "try:\n",
        "    my_tuple[2] = 99\n",
        "except TypeError as e:\n",
        "    print(\"Error when modifying tuple:\", e)"
      ],
      "metadata": {
        "colab": {
          "base_uri": "https://localhost:8080/"
        },
        "id": "bhKtdS8X9INh",
        "outputId": "4381abbc-cc70-408d-de12-a5c59823772a"
      },
      "execution_count": 10,
      "outputs": [
        {
          "output_type": "stream",
          "name": "stdout",
          "text": [
            "Updated list: [1, 2, 99, 4]\n",
            "Error when modifying tuple: 'tuple' object does not support item assignment\n"
          ]
        }
      ]
    },
    {
      "cell_type": "code",
      "source": [
        "#Q6. Write a function to demonstrate the behavior of mutable and immutable arguments.\n",
        "\n",
        "def modify_args(immutable_arg, mutable_arg):\n",
        "    print(\"Before modification:\")\n",
        "    print(\"Immutable argument:\", immutable_arg)\n",
        "    print(\"Mutable argument:\", mutable_arg)\n",
        "\n",
        "    # Modify the immutable argument (will not change)\n",
        "    immutable_arg += 1\n",
        "    # Modify the mutable argument (will change)\n",
        "    mutable_arg.append(99)\n",
        "\n",
        "    print(\"\\nAfter modification:\")\n",
        "    print(\"Immutable argument:\", immutable_arg)  # The value remains unchanged\n",
        "    print(\"Mutable argument:\", mutable_arg)  # The value changes\n",
        "\n",
        "\n",
        "# Test with immutable and mutable arguments\n",
        "num = 10\n",
        "lst = [1, 2, 3]\n",
        "\n",
        "modify_args(num, lst)"
      ],
      "metadata": {
        "colab": {
          "base_uri": "https://localhost:8080/"
        },
        "id": "w03yLSY69rbZ",
        "outputId": "1e29577b-51e8-4294-e0b2-19bbcb471737"
      },
      "execution_count": 11,
      "outputs": [
        {
          "output_type": "stream",
          "name": "stdout",
          "text": [
            "Before modification:\n",
            "Immutable argument: 10\n",
            "Mutable argument: [1, 2, 3]\n",
            "\n",
            "After modification:\n",
            "Immutable argument: 11\n",
            "Mutable argument: [1, 2, 3, 99]\n"
          ]
        }
      ]
    },
    {
      "cell_type": "code",
      "source": [
        "#Q7. Write a function to demonstrate the behavior of mutable and immutable arguments.\n",
        "\n",
        "def demonstrate_mutable_immutable(immutable_arg, mutable_arg):\n",
        "    print(\"Before modification:\")\n",
        "    print(f\"Immutable argument (int): {immutable_arg}\")\n",
        "    print(f\"Mutable argument (list): {mutable_arg}\")\n",
        "\n",
        "    # Modify the immutable argument (does not affect the original)\n",
        "    immutable_arg += 10\n",
        "    # Modify the mutable argument (affects the original)\n",
        "    mutable_arg.append(99)\n",
        "\n",
        "    print(\"\\nAfter modification:\")\n",
        "    print(f\"Immutable argument (int): {immutable_arg}\")  # The value is changed locally but not globally\n",
        "    print(f\"Mutable argument (list): {mutable_arg}\")  # The list is modified globally\n",
        "\n",
        "# Test with immutable and mutable arguments\n",
        "immutable_val = 5\n",
        "mutable_val = [1, 2, 3]\n",
        "\n",
        "demonstrate_mutable_immutable(immutable_val, mutable_val)"
      ],
      "metadata": {
        "colab": {
          "base_uri": "https://localhost:8080/"
        },
        "id": "QgWYOcBf-VzQ",
        "outputId": "a2262714-103e-4274-cd1f-01f3860690c2"
      },
      "execution_count": 12,
      "outputs": [
        {
          "output_type": "stream",
          "name": "stdout",
          "text": [
            "Before modification:\n",
            "Immutable argument (int): 5\n",
            "Mutable argument (list): [1, 2, 3]\n",
            "\n",
            "After modification:\n",
            "Immutable argument (int): 15\n",
            "Mutable argument (list): [1, 2, 3, 99]\n"
          ]
        }
      ]
    },
    {
      "cell_type": "code",
      "source": [
        "#Q8. Write a program to demonstrate the use of logical operators.\n",
        "\n",
        "### Write a program to demonstrate the use of logical operators\n",
        "\n",
        "def logical_operators_demo(a, b, c):\n",
        "    print(f\"Checking conditions for a={a}, b={b}, c={c}\")\n",
        "\n",
        "    # Using 'and' operator\n",
        "    if a > 0 and b > 0:\n",
        "        print(\"Both a and b are greater than 0 (AND operator)\")\n",
        "    else:\n",
        "        print(\"At least one of a or b is not greater than 0\")\n",
        "\n",
        "    # Using 'or' operator\n",
        "    if a > 0 or c > 0:\n",
        "        print(\"At least one of a or c is greater than 0 (OR operator)\")\n",
        "    else:\n",
        "        print(\"Neither a nor c is greater than 0\")\n",
        "\n",
        "    # Using 'not' operator\n",
        "    if not (b == 0):\n",
        "        print(\"b is not equal to 0 (NOT operator)\")\n",
        "    else:\n",
        "        print(\"b is equal to 0\")\n",
        "\n",
        "# Test cases\n",
        "logical_operators_demo(5, 0, -3)  # Case 1\n",
        "print(\"-----\")\n",
        "logical_operators_demo(10, 2, 3)  # Case 2\n"
      ],
      "metadata": {
        "colab": {
          "base_uri": "https://localhost:8080/"
        },
        "id": "BE82ChXx-jgT",
        "outputId": "ca737eff-1790-4dc1-fda6-1de772af8711"
      },
      "execution_count": 13,
      "outputs": [
        {
          "output_type": "stream",
          "name": "stdout",
          "text": [
            "Checking conditions for a=5, b=0, c=-3\n",
            "At least one of a or b is not greater than 0\n",
            "At least one of a or c is greater than 0 (OR operator)\n",
            "b is equal to 0\n",
            "-----\n",
            "Checking conditions for a=10, b=2, c=3\n",
            "Both a and b are greater than 0 (AND operator)\n",
            "At least one of a or c is greater than 0 (OR operator)\n",
            "b is not equal to 0 (NOT operator)\n"
          ]
        }
      ]
    },
    {
      "cell_type": "code",
      "source": [
        "#Q9. Write a Python program to convert user input from string to integer, float, and boolean types.\n",
        "\n",
        "# Take input from the user as a string\n",
        "user_input = input(\"Value \")\n",
        "\n",
        "# Convert the string to an integer\n",
        "try:\n",
        "    user_input_int = int(user_input)\n",
        "    print(f\"The value as an integer: {user_input_int}\")\n",
        "except ValueError:\n",
        "    print(\"The input could not be converted to an integer.\")\n",
        "\n",
        "# Convert the string to a float\n",
        "try:\n",
        "    user_input_float = float(user_input)\n",
        "    print(f\"The value as a float: {user_input_float}\")\n",
        "except ValueError:\n",
        "    print(\"The input could not be converted to a float.\")\n",
        "\n",
        "# Convert the string to a boolean\n",
        "# For the boolean conversion, we consider 'True' and 'False' (case-insensitive)\n",
        "user_input_lower = user_input.strip().lower()\n",
        "if user_input_lower == \"true\":\n",
        "    user_input_bool = True\n",
        "elif user_input_lower == \"false\":\n",
        "    user_input_bool = False\n",
        "else:\n",
        "    # If input is not 'true' or 'false', default to False\n",
        "    user_input_bool = False\n",
        "\n",
        "print(f\"The value as a boolean: {user_input_bool}\")"
      ],
      "metadata": {
        "colab": {
          "base_uri": "https://localhost:8080/"
        },
        "id": "Iet9J45c-ykO",
        "outputId": "7292c59d-a28e-4a87-d6c0-cde32a445df4"
      },
      "execution_count": 18,
      "outputs": [
        {
          "output_type": "stream",
          "name": "stdout",
          "text": [
            "Value 2845568\n",
            "The value as an integer: 2845568\n",
            "The value as a float: 2845568.0\n",
            "The value as a boolean: False\n"
          ]
        }
      ]
    },
    {
      "cell_type": "code",
      "source": [
        "# Q10. Write code to demonstrate type casting with list elements.\n",
        "\n",
        "def type_casting_demo():\n",
        "    # Original list with different types of elements\n",
        "    mixed_list = [1, 2.5, \"3\", True, [4, 5]]\n",
        "\n",
        "    print(\"Original list:\", mixed_list)\n",
        "\n",
        "    # Type casting: converting elements to different types\n",
        "\n",
        "    # Convert float to integer\n",
        "    int_value = int(mixed_list[1])\n",
        "    print(\"\\nElement '2.5' converted to int:\", int_value)\n",
        "\n",
        "    # Convert string to integer (assuming the string represents a number)\n",
        "    str_to_int = int(mixed_list[2])\n",
        "    print(\"\\nElement '3' (string) converted to int:\", str_to_int)\n",
        "\n",
        "    # Convert boolean to integer (True -> 1, False -> 0)\n",
        "    bool_to_int = int(mixed_list[3])\n",
        "    print(\"\\nElement 'True' converted to int:\", bool_to_int)\n",
        "\n",
        "    # Convert integer to float\n",
        "    int_to_float = float(mixed_list[0])\n",
        "    print(\"\\nElement '1' converted to float:\", int_to_float)\n",
        "\n",
        "    # Convert list to string (it will be a string representation of the list)\n",
        "    list_to_str = str(mixed_list[4])\n",
        "    print(\"\\nElement '[4, 5]' converted to string:\", list_to_str)\n",
        "\n",
        "    # Convert the list itself to a tuple\n",
        "    list_to_tuple = tuple(mixed_list)\n",
        "    print(\"\\nEntire list converted to tuple:\", list_to_tuple)\n",
        "\n",
        "# Call the function to demonstrate type casting\n",
        "type_casting_demo()"
      ],
      "metadata": {
        "colab": {
          "base_uri": "https://localhost:8080/"
        },
        "id": "TJm0qDXy_bwU",
        "outputId": "40f0d6a9-c0d0-4306-e727-7d73eecd4c6e"
      },
      "execution_count": 19,
      "outputs": [
        {
          "output_type": "stream",
          "name": "stdout",
          "text": [
            "Original list: [1, 2.5, '3', True, [4, 5]]\n",
            "\n",
            "Element '2.5' converted to int: 2\n",
            "\n",
            "Element '3' (string) converted to int: 3\n",
            "\n",
            "Element 'True' converted to int: 1\n",
            "\n",
            "Element '1' converted to float: 1.0\n",
            "\n",
            "Element '[4, 5]' converted to string: [4, 5]\n",
            "\n",
            "Entire list converted to tuple: (1, 2.5, '3', True, [4, 5])\n"
          ]
        }
      ]
    },
    {
      "cell_type": "code",
      "source": [
        "# Q11. Write a program that checks if a number is positive, negative, or zero.\n",
        "\n",
        "# Input: Take input from the user\n",
        "num = float(input(\"Enter a number: \"))\n",
        "\n",
        "# Check if the number is positive, negative, or zero\n",
        "if num > 0:\n",
        "    print(\"The number is positive.\")\n",
        "elif num < 0:\n",
        "    print(\"The number is negative.\")\n",
        "else:\n",
        "    print(\"The number is zero.\")"
      ],
      "metadata": {
        "colab": {
          "base_uri": "https://localhost:8080/"
        },
        "id": "nurxTskJ_pYV",
        "outputId": "9290da3d-9395-4ff7-c49d-499ef8511138"
      },
      "execution_count": 25,
      "outputs": [
        {
          "output_type": "stream",
          "name": "stdout",
          "text": [
            "Enter a number: 55446\n",
            "The number is positive.\n"
          ]
        }
      ]
    },
    {
      "cell_type": "code",
      "source": [
        "#Q12.  Write a for loop to print numbers from 1 to 10.\n",
        "\n",
        "# Use a for loop to print numbers from 1 to 10\n",
        "for number in range(1, 11):\n",
        "    print(number)"
      ],
      "metadata": {
        "colab": {
          "base_uri": "https://localhost:8080/"
        },
        "id": "wiAw003bAkaw",
        "outputId": "0acd445a-2d66-40a3-95dc-b401fd544b58"
      },
      "execution_count": 30,
      "outputs": [
        {
          "output_type": "stream",
          "name": "stdout",
          "text": [
            "1\n",
            "2\n",
            "3\n",
            "4\n",
            "5\n",
            "6\n",
            "7\n",
            "8\n",
            "9\n",
            "10\n"
          ]
        }
      ]
    },
    {
      "cell_type": "code",
      "source": [
        "#Q13. Write a Python program to find the sum of all even numbers between 1 and 50.\n",
        "\n",
        "# Initialize the sum to 0\n",
        "sum_of_even_numbers = 0\n",
        "\n",
        "# Use a for loop to iterate over numbers from 1 to 50\n",
        "for number in range(1, 51):\n",
        "    # Check if the number is even\n",
        "    if number % 2 == 0:\n",
        "        sum_of_even_numbers += number\n",
        "\n",
        "# Print the sum of even numbers\n",
        "print(f\"The sum of all even numbers between 1 and 50 is: {sum_of_even_numbers}\")"
      ],
      "metadata": {
        "colab": {
          "base_uri": "https://localhost:8080/"
        },
        "id": "0I_KVWR7BHzF",
        "outputId": "cb93399c-4ee0-4386-9f7f-58e14c8d915b"
      },
      "execution_count": 31,
      "outputs": [
        {
          "output_type": "stream",
          "name": "stdout",
          "text": [
            "The sum of all even numbers between 1 and 50 is: 650\n"
          ]
        }
      ]
    },
    {
      "cell_type": "code",
      "source": [
        "#Q14. Write a program to reverse a string using a while loop.\n",
        "\n",
        "# Get user input\n",
        "input_string = input(\"Type a string: \")\n",
        "\n",
        "# Initialize variables\n",
        "reversed_string = \"\"\n",
        "index = len(input_string) - 1\n",
        "\n",
        "# Use a while loop to reverse the string\n",
        "while index >= 0:\n",
        "    reversed_string += input_string[index]\n",
        "    index -= 1\n",
        "\n",
        "# Print the reversed string\n",
        "print(f\"The reversed string is: {reversed_string}\")"
      ],
      "metadata": {
        "colab": {
          "base_uri": "https://localhost:8080/"
        },
        "id": "m4aBZUASBUUT",
        "outputId": "a9ccfa55-b3dd-44c6-ec53-be9b308e41bb"
      },
      "execution_count": 32,
      "outputs": [
        {
          "output_type": "stream",
          "name": "stdout",
          "text": [
            "Type a string: MILLAN KUMAR\n",
            "The reversed string is: RAMUK NALLIM\n"
          ]
        }
      ]
    },
    {
      "cell_type": "code",
      "source": [
        "#Q15. Write a Python program to calculate the factorial of a number provided by the user using a while loop.\n",
        "# Get user input\n",
        "number = int(input(\"Enter a number to calculate its factorial: \"))\n",
        "\n",
        "# Initialize variables\n",
        "factorial = 1\n",
        "counter = number\n",
        "\n",
        "# Use a while loop to calculate the factorial\n",
        "while counter > 0:\n",
        "    factorial *= counter  # Multiply the current factorial by the counter\n",
        "    counter -= 1  # Decrement the counter\n",
        "\n",
        "# Print the result\n",
        "print(f\"The factorial of {number} is: {factorial}\")"
      ],
      "metadata": {
        "colab": {
          "base_uri": "https://localhost:8080/"
        },
        "id": "y05VTjjfBePW",
        "outputId": "9b4a344d-1456-46a8-ec5a-09e884dc857b"
      },
      "execution_count": 34,
      "outputs": [
        {
          "output_type": "stream",
          "name": "stdout",
          "text": [
            "Enter a number to calculate its factorial: 8\n",
            "The factorial of 8 is: 40320\n"
          ]
        }
      ]
    }
  ]
}